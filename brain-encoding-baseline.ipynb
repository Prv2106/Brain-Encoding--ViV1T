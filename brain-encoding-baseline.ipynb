{
 "cells": [
  {
   "cell_type": "code",
   "execution_count": 2,
   "metadata": {
    "execution": {
     "iopub.execute_input": "2025-07-24T18:48:45.716983Z",
     "iopub.status.busy": "2025-07-24T18:48:45.716011Z",
     "iopub.status.idle": "2025-07-24T18:48:45.731649Z",
     "shell.execute_reply": "2025-07-24T18:48:45.730576Z",
     "shell.execute_reply.started": "2025-07-24T18:48:45.716941Z"
    },
    "trusted": true
   },
   "outputs": [],
   "source": [
    "import os\n",
    "import numpy as np\n",
    "import torch\n",
    "from torch.utils.data import Dataset\n",
    "\n",
    "class MouseDataset(Dataset):\n",
    "    def __init__(self, root_dir):\n",
    "        self.videos_dir = os.path.join(root_dir, 'videos')\n",
    "        self.pupil_dir = os.path.join(root_dir, 'pupil_center')\n",
    "        self.behavior_dir = os.path.join(root_dir, 'behavior')\n",
    "        self.labels_dir = os.path.join(root_dir, 'labels')\n",
    "\n",
    "        self.file_ids = sorted(\n",
    "            [f.replace('.npy', '') for f in os.listdir(self.videos_dir) if f.endswith('.npy')],\n",
    "            key=lambda x: int(x)\n",
    "        )\n",
    "\n",
    "    def __len__(self):\n",
    "        return len(self.file_ids)\n",
    "\n",
    "    def __getitem__(self, i):\n",
    "        file_id = self.file_ids[i]\n",
    "\n",
    "        video = np.load(os.path.join(self.videos_dir, f'{file_id}.npy'))\n",
    "        pupil = np.load(os.path.join(self.pupil_dir, f'{file_id}.npy'))\n",
    "        behavior = np.load(os.path.join(self.behavior_dir, f'{file_id}.npy'))\n",
    "        label = np.load(os.path.join(self.labels_dir, f'{file_id}.npy'))\n",
    "\n",
    "        video = video[np.newaxis, ...]\n",
    "        \n",
    "        return {\n",
    "            'video': torch.from_numpy(video).float(),\n",
    "            'pupil_center': torch.from_numpy(pupil).float().transpose(1,0),\n",
    "            'behavior': torch.from_numpy(behavior).float().transpose(1,0),\n",
    "            'labels': torch.from_numpy(label).float()\n",
    "        }"
   ]
  },
  {
   "cell_type": "code",
   "execution_count": 3,
   "metadata": {
    "execution": {
     "iopub.execute_input": "2025-07-24T18:48:45.836989Z",
     "iopub.status.busy": "2025-07-24T18:48:45.836010Z",
     "iopub.status.idle": "2025-07-24T18:48:45.897309Z",
     "shell.execute_reply": "2025-07-24T18:48:45.896095Z",
     "shell.execute_reply.started": "2025-07-24T18:48:45.836948Z"
    },
    "trusted": true
   },
   "outputs": [],
   "source": [
    "train_set = MouseDataset('/kaggle/input/mousedatasetct/train/data')\n",
    "validation_set = MouseDataset('/kaggle/input/mousedatasetct/validation/data')\n",
    "test_set = MouseDataset('/kaggle/input/mousedatasetct/test/data')"
   ]
  },
  {
   "cell_type": "code",
   "execution_count": 4,
   "metadata": {
    "execution": {
     "iopub.execute_input": "2025-07-24T18:49:12.000575Z",
     "iopub.status.busy": "2025-07-24T18:49:12.000277Z",
     "iopub.status.idle": "2025-07-24T18:49:12.123485Z",
     "shell.execute_reply": "2025-07-24T18:49:12.122786Z",
     "shell.execute_reply.started": "2025-07-24T18:49:12.000553Z"
    },
    "trusted": true
   },
   "outputs": [
    {
     "data": {
      "text/plain": [
       "torch.Size([227, 140])"
      ]
     },
     "execution_count": 4,
     "metadata": {},
     "output_type": "execute_result"
    }
   ],
   "source": [
    "train_set[0]['labels'].shape"
   ]
  },
  {
   "cell_type": "markdown",
   "metadata": {},
   "source": [
    "# BASELINE"
   ]
  },
  {
   "cell_type": "markdown",
   "metadata": {},
   "source": [
    "**N.B:** TRAIN\\_SET\n",
    "\n",
    "* 0–41: indices associated with clips from *natural\\_movie\\_one* → one trial every 6\n",
    "* 42–216: indices associated with clips from *natural\\_movie\\_three* → one trial every 25\n",
    "\n"
   ]
  },
  {
   "cell_type": "code",
   "execution_count": 5,
   "metadata": {
    "execution": {
     "iopub.execute_input": "2025-07-24T18:49:17.781530Z",
     "iopub.status.busy": "2025-07-24T18:49:17.781237Z",
     "iopub.status.idle": "2025-07-24T18:49:17.793810Z",
     "shell.execute_reply": "2025-07-24T18:49:17.792817Z",
     "shell.execute_reply.started": "2025-07-24T18:49:17.781509Z"
    },
    "trusted": true
   },
   "outputs": [],
   "source": [
    "import numpy as np\n",
    "import statistics\n",
    "\n",
    "def retrieve_dff_mean_among_trials_for_a_clip(movie_type: str , train_set: MouseDataset, clip: int):\n",
    "    \"\"\"\n",
    "    movie_type:\n",
    "        - \"one\"\n",
    "        - \"three\"\n",
    "    \n",
    "    clip:\n",
    "        - \"one\": from 1 to 6 (files from 0.npy to 5.npy), return with clip=2: [1.npy, 7.npy, 13.npy, ... , 37.npy]\n",
    "        - \"three\": from 1 to 25 (files from 42.npy to 66.npy), return with clip=2: [43.npy, 68.npy, ... , 212.npy]\n",
    "    \"\"\"\n",
    "    \n",
    "    offset = 6 if movie_type==\"one\" else 25\n",
    "\n",
    "    # Check that parameters passed are consistent with the movie_type\n",
    "    if movie_type == \"one\":\n",
    "        # indices from 0 to 41\n",
    "        assert 1 <= clip <= 6, f\"Per movie_type='one', clip deve essere tra 1 e 6, ricevuto: {clip}\"\n",
    "    elif movie_type == \"three\":\n",
    "        # indices from 42 to 216 \n",
    "        assert 1 <= clip <= 25, f\"Per movie_type='three', clip deve essere tra 1 e 25, ricevuto: {clip}\"\n",
    "    else:\n",
    "        raise ValueError(f\"movie_type deve essere 'one' o 'three', ricevuto: {movie_type}\")\n",
    "    \n",
    "    trials = []\n",
    "    start_idx = clip-1 if movie_type == \"one\" else clip+41\n",
    "    for i in range(7):\n",
    "        trials.append(train_set[start_idx]['labels'].numpy())\n",
    "        start_idx += offset\n",
    "    \n",
    "    # Mean across trials: (7, 227, 140) → (227, 140)\n",
    "    mean_across_trials = np.mean(trials, axis=0)\n",
    "    return mean_across_trials"
   ]
  },
  {
   "cell_type": "code",
   "execution_count": 6,
   "metadata": {
    "execution": {
     "iopub.execute_input": "2025-07-24T18:49:19.580195Z",
     "iopub.status.busy": "2025-07-24T18:49:19.579859Z",
     "iopub.status.idle": "2025-07-24T18:49:19.586044Z",
     "shell.execute_reply": "2025-07-24T18:49:19.585127Z",
     "shell.execute_reply.started": "2025-07-24T18:49:19.580169Z"
    },
    "trusted": true
   },
   "outputs": [
    {
     "name": "stdout",
     "output_type": "stream",
     "text": [
      "62\n"
     ]
    }
   ],
   "source": [
    "print(len(test_set)) # 62 → 12 for \"one\" (first 6 for trial 8) and 50 for \"three\" (first 25 for trial 8)"
   ]
  },
  {
   "cell_type": "code",
   "execution_count": 7,
   "metadata": {
    "execution": {
     "iopub.execute_input": "2025-07-24T18:49:19.714553Z",
     "iopub.status.busy": "2025-07-24T18:49:19.714240Z",
     "iopub.status.idle": "2025-07-24T18:49:19.844869Z",
     "shell.execute_reply": "2025-07-24T18:49:19.844033Z",
     "shell.execute_reply.started": "2025-07-24T18:49:19.714528Z"
    },
    "trusted": true
   },
   "outputs": [],
   "source": [
    "# here we retrieve trials 8 and 9 of the test for clip 1 of movie one\n",
    "# N.B: once we compare with trial 8 and another time with trial 9\n",
    "\n",
    "clip_1_type_one_test_trial8 = test_set[0]['labels'] \n",
    "clip_1_type_one_test_trial9 = test_set[6]['labels'] "
   ]
  },
  {
   "cell_type": "code",
   "execution_count": 8,
   "metadata": {
    "execution": {
     "iopub.execute_input": "2025-07-24T18:49:20.882111Z",
     "iopub.status.busy": "2025-07-24T18:49:20.881802Z",
     "iopub.status.idle": "2025-07-24T18:49:20.969269Z",
     "shell.execute_reply": "2025-07-24T18:49:20.967859Z",
     "shell.execute_reply.started": "2025-07-24T18:49:20.882088Z"
    },
    "trusted": true
   },
   "outputs": [],
   "source": [
    "# we retrieve trials 8 and 9 of the test for clip 1 of movie one\n",
    "# N.B: once we compare with trial 8 and another time with trial 9\n",
    "\n",
    "clip_1_type_three_test_trial8 = test_set[13]['labels'] \n",
    "clip_1_type_three_test_trial9 = test_set[38]['labels'] "
   ]
  },
  {
   "cell_type": "code",
   "execution_count": 9,
   "metadata": {
    "execution": {
     "iopub.execute_input": "2025-07-24T18:49:21.055041Z",
     "iopub.status.busy": "2025-07-24T18:49:21.054709Z",
     "iopub.status.idle": "2025-07-24T18:49:21.063228Z",
     "shell.execute_reply": "2025-07-24T18:49:21.061387Z",
     "shell.execute_reply.started": "2025-07-24T18:49:21.055014Z"
    },
    "trusted": true
   },
   "outputs": [],
   "source": [
    "# First cell: calculation of the Pearson correlation between clip_1_type_one_train and test trials\n",
    "\n",
    "import numpy as np\n",
    "\n",
    "# Then neuron-by-neuron correlation\n",
    "def compute_neuron_correlations(mean_training, test_trial):\n",
    "    \"\"\"Calculates neuron-by-neuron correlation\"\"\"\n",
    "    correlations = []\n",
    "\n",
    "    print(mean_training.shape)\n",
    "    for neuron in range(mean_training.shape[0]):\n",
    "        # Each neuron has 140 time points\n",
    "        train_neuron = mean_training[neuron, :]  # shape (140,)\n",
    "        test_neuron = test_trial[neuron, :]      # shape (140,)\n",
    "        \n",
    "        # Check variance\n",
    "        if np.var(train_neuron) > 1e-10 and np.var(test_neuron) > 1e-10:\n",
    "            corr = np.corrcoef(train_neuron, test_neuron)[0, 1]\n",
    "            if not np.isnan(corr) and np.isfinite(corr):\n",
    "                correlations.append(corr)\n",
    "    \n",
    "    return {\n",
    "        'mean_correlation': np.mean(correlations) if correlations else 0.0,\n",
    "        'valid_neurons': len(correlations),\n",
    "        'total_neurons': mean_training.shape[0]\n",
    "    }"
   ]
  },
  {
   "cell_type": "code",
   "execution_count": null,
   "metadata": {
    "execution": {
     "iopub.execute_input": "2025-07-24T18:49:22.395451Z",
     "iopub.status.busy": "2025-07-24T18:49:22.394834Z",
     "iopub.status.idle": "2025-07-24T18:49:22.402762Z",
     "shell.execute_reply": "2025-07-24T18:49:22.401740Z",
     "shell.execute_reply.started": "2025-07-24T18:49:22.395420Z"
    },
    "trusted": true
   },
   "outputs": [],
   "source": [
    "def pearson_correlation(predictions, labels):\n",
    "             \n",
    "    # Temporal alignment for evaluation\n",
    "    min_frames = 66\n",
    "    labels_aligned = labels[..., -min_frames:]\n",
    "    predictions_aligned = predictions[..., -min_frames:]\n",
    "    \n",
    "    y_true = labels_aligned.transpose(1, 0) # (time, neurons)\n",
    "    y_pred = predictions_aligned.transpose(1,0) # (time, neurons)\n",
    "        \n",
    "    correlations = []\n",
    "        \n",
    "    for neuron in range(y_true.shape[1]): \n",
    "        # for each neuron, retrieve prediction and label\n",
    "        true_vals = y_true[:, neuron]\n",
    "        pred_vals = y_pred[:, neuron]\n",
    "        \n",
    "        true_var = np.var(true_vals)\n",
    "        pred_var = np.var(pred_vals)\n",
    "        \n",
    "        \"\"\"\n",
    "        we filter out neurons with practically constant activity (variance near zero) before calculating the correlation.\n",
    "        This avoids division by zero in the Pearson correlation formula.\n",
    "        \"Dead\" or inactive neurons, common in neural datasets, would have mathematically undefined correlations,\n",
    "        so they are excluded from metric calculations. Only neurons with significant variability\n",
    "        both in real data and predictions contribute to the final average correlation metric,\n",
    "        ensuring statistically valid results.\n",
    "        \"\"\"\n",
    "\n",
    "        if true_var > 1e-10 and pred_var > 1e-10:\n",
    "            corr = np.corrcoef(true_vals, pred_vals)[0, 1]\n",
    "            if not np.isnan(corr) and np.isfinite(corr):\n",
    "                correlations.append(corr)\n",
    "    \n",
    "    mean_correlation = np.mean(correlations) if correlations else 0.0\n",
    "        \n",
    "    return {\n",
    "        'eval_single_trial_correlation': mean_correlation,\n",
    "    }"
   ]
  },
  {
   "cell_type": "markdown",
   "metadata": {},
   "source": [
    "## SAMPLE-BASED APPROACH\n"
   ]
  },
  {
   "cell_type": "markdown",
   "metadata": {},
   "source": [
    "For the baseline calculation, we proceeded as follows:\n",
    "Our train\\_set includes 7 trials (from 0 to 7) for both **natural\\_movie\\_one** and **natural\\_movie\\_three**. Based on the processing we performed on the dataset (segmentation), we found that the video of type **one** consists of 6 clips, while the video of type **three** consists of 25 clips. Each clip has a shape of (227, 140).\n"
   ]
  },
  {
   "cell_type": "code",
   "execution_count": 11,
   "metadata": {
    "execution": {
     "iopub.execute_input": "2025-07-24T18:49:24.620094Z",
     "iopub.status.busy": "2025-07-24T18:49:24.619791Z",
     "iopub.status.idle": "2025-07-24T18:49:24.944984Z",
     "shell.execute_reply": "2025-07-24T18:49:24.944231Z",
     "shell.execute_reply.started": "2025-07-24T18:49:24.620037Z"
    },
    "trusted": true
   },
   "outputs": [
    {
     "name": "stdout",
     "output_type": "stream",
     "text": [
      "{'eval_single_trial_correlation': 0.1503593076233057}\n"
     ]
    }
   ],
   "source": [
    "# calculation of the Pearson correlation between clip_1_type_one_train and clip_1_type_one_test_trial8\n",
    "clip_1_type_one_train = retrieve_dff_mean_among_trials_for_a_clip(\"one\", train_set, 1)\n",
    "result = pearson_correlation(clip_1_type_one_train, clip_1_type_one_test_trial8.numpy())\n",
    "print(result) "
   ]
  },
  {
   "cell_type": "code",
   "execution_count": 12,
   "metadata": {
    "execution": {
     "iopub.execute_input": "2025-07-24T18:49:25.632480Z",
     "iopub.status.busy": "2025-07-24T18:49:25.632165Z",
     "iopub.status.idle": "2025-07-24T18:49:25.676284Z",
     "shell.execute_reply": "2025-07-24T18:49:25.675106Z",
     "shell.execute_reply.started": "2025-07-24T18:49:25.632456Z"
    },
    "trusted": true
   },
   "outputs": [
    {
     "name": "stdout",
     "output_type": "stream",
     "text": [
      "{'eval_single_trial_correlation': 0.15572641561251682}\n"
     ]
    }
   ],
   "source": [
    "# calculation of the Pearson correlation between clip_1_type_one_train and clip_1_type_one_test_trial9\n",
    "result = pearson_correlation(clip_1_type_one_train, clip_1_type_one_test_trial9.numpy())\n",
    "print(result) "
   ]
  },
  {
   "cell_type": "code",
   "execution_count": 13,
   "metadata": {
    "execution": {
     "iopub.execute_input": "2025-07-24T18:49:25.832843Z",
     "iopub.status.busy": "2025-07-24T18:49:25.832524Z",
     "iopub.status.idle": "2025-07-24T18:49:26.171805Z",
     "shell.execute_reply": "2025-07-24T18:49:26.170882Z",
     "shell.execute_reply.started": "2025-07-24T18:49:25.832821Z"
    },
    "trusted": true
   },
   "outputs": [
    {
     "name": "stdout",
     "output_type": "stream",
     "text": [
      "{'eval_single_trial_correlation': 0.014238362417651177}\n"
     ]
    }
   ],
   "source": [
    "# calculation of the Pearson correlation between clip_1_type_one_train and clip_1_type_one_test_trial9\n",
    "clip_1_type_three_train = retrieve_dff_mean_among_trials_for_a_clip(\"three\", train_set, 1)\n",
    "result = pearson_correlation(clip_1_type_three_train, clip_1_type_three_test_trial8.numpy())\n",
    "print(result) # 0.01626231821295263"
   ]
  },
  {
   "cell_type": "code",
   "execution_count": 14,
   "metadata": {
    "execution": {
     "iopub.execute_input": "2025-07-24T18:49:27.000793Z",
     "iopub.status.busy": "2025-07-24T18:49:27.000484Z",
     "iopub.status.idle": "2025-07-24T18:49:27.046381Z",
     "shell.execute_reply": "2025-07-24T18:49:27.045554Z",
     "shell.execute_reply.started": "2025-07-24T18:49:27.000770Z"
    },
    "trusted": true
   },
   "outputs": [
    {
     "name": "stdout",
     "output_type": "stream",
     "text": [
      "{'eval_single_trial_correlation': 0.017345757218436755}\n"
     ]
    }
   ],
   "source": [
    "# calculation of the Pearson correlation between clip_1_type_three_train and clip_1_type_one_test_trial9\n",
    "result = pearson_correlation(clip_1_type_three_train, clip_1_type_three_test_trial9.numpy())\n",
    "print(result) # 0.025573463105490166"
   ]
  },
  {
   "cell_type": "markdown",
   "metadata": {},
   "source": [
    "So, we retrieved the trials of the same clip in the test\\_set (specifically, trials 8 and 9) and finally calculated the Pearson correlation between the previously obtained NumPy array (the average value, for each neuron, of its intensity across the 7 trials, frame by frame, relative to a selected clip) and the clip from trial 8 first, then with the clip from trial 9.\n"
   ]
  },
  {
   "cell_type": "markdown",
   "metadata": {},
   "source": [
    "## APPROACH WITH THE AVERAGE OF SINGLE TRIAL CORRELATIONS\n"
   ]
  },
  {
   "cell_type": "markdown",
   "metadata": {},
   "source": [
    "After careful consideration, we concluded that calculating the baseline over all clips in the dataset is a more accurate approach. This is because it provides more meaningful information compared to the sample-based approach and because the model training follows this metric (in fact, the `compute_metrics` method called by the HuggingFace Trainer was implemented specifically to return the average of the single trial correlations across all samples in the test\\_set).\n",
    "Consequently, when performing the model's `evaluate()` on the test\\_set, the resulting value can be directly compared to this baseline. Specifically, we first calculated the correlation between the train\\_set responses and the test\\_set clips related to trial 8, and then calculated the correlation between the train\\_set responses and the test\\_set clips related to trial 9.\n"
   ]
  },
  {
   "cell_type": "code",
   "execution_count": 15,
   "metadata": {
    "execution": {
     "iopub.execute_input": "2025-07-24T18:49:29.513296Z",
     "iopub.status.busy": "2025-07-24T18:49:29.512940Z",
     "iopub.status.idle": "2025-07-24T18:49:37.414894Z",
     "shell.execute_reply": "2025-07-24T18:49:37.414009Z",
     "shell.execute_reply.started": "2025-07-24T18:49:29.513269Z"
    },
    "trusted": true
   },
   "outputs": [
    {
     "name": "stdout",
     "output_type": "stream",
     "text": [
      "(227, 140)\n",
      "(31, 227, 140)\n"
     ]
    }
   ],
   "source": [
    "list_array_numpy = [] # will have length = 31\n",
    "for movie_type in [\"one\",\"three\"]:\n",
    "    _range = 6 if movie_type == \"one\" else 25\n",
    "    for i in range(_range):\n",
    "        list_array_numpy.append(retrieve_dff_mean_among_trials_for_a_clip(movie_type, train_set, i+1))\n",
    "\n",
    "print(list_array_numpy[0].shape)\n",
    "# Convert: we obtain a 3D array from the list of 2D arrays\n",
    "array_3d_train = np.stack(list_array_numpy, axis=0)\n",
    "print(array_3d_train.shape)  # (31, 227, 140)"
   ]
  },
  {
   "cell_type": "code",
   "execution_count": 16,
   "metadata": {
    "execution": {
     "iopub.execute_input": "2025-07-24T18:49:37.416423Z",
     "iopub.status.busy": "2025-07-24T18:49:37.416135Z",
     "iopub.status.idle": "2025-07-24T18:49:39.575799Z",
     "shell.execute_reply": "2025-07-24T18:49:39.574797Z",
     "shell.execute_reply.started": "2025-07-24T18:49:37.416386Z"
    },
    "trusted": true
   },
   "outputs": [
    {
     "name": "stdout",
     "output_type": "stream",
     "text": [
      "(31, 227, 140)\n",
      "(31, 227, 140)\n"
     ]
    }
   ],
   "source": [
    "# we split the test set into 2 (trial 8 and 9):\n",
    "# - 31 clips in total: the first 6 for \"movie one\" and the other 25 (following) for \"movie three\" <-> trial 8\n",
    "# ...\n",
    "trial_8_list = []\n",
    "trial_9_list = []\n",
    "for i in range(len(test_set)):\n",
    "    if i < 31:\n",
    "        trial_8_list.append(test_set[i]['labels'].numpy())\n",
    "    else:\n",
    "        trial_9_list.append(test_set[i]['labels'].numpy())\n",
    "\n",
    "array_3d_trial8_test = np.stack(trial_8_list, axis=0)\n",
    "array_3d_trial9_test = np.stack(trial_9_list, axis=0)\n",
    "print(array_3d_trial8_test.shape)  # (31, 227, 140)\n",
    "print(array_3d_trial9_test.shape)  # (31, 227, 140)"
   ]
  },
  {
   "cell_type": "code",
   "execution_count": null,
   "metadata": {
    "execution": {
     "iopub.execute_input": "2025-07-24T18:49:39.576843Z",
     "iopub.status.busy": "2025-07-24T18:49:39.576608Z",
     "iopub.status.idle": "2025-07-24T18:49:39.585103Z",
     "shell.execute_reply": "2025-07-24T18:49:39.584241Z",
     "shell.execute_reply.started": "2025-07-24T18:49:39.576822Z"
    },
    "trusted": true
   },
   "outputs": [],
   "source": [
    "def compute_metrics(predictions, labels):  \n",
    "    min_frames = 66\n",
    "    labels_aligned = labels[..., -min_frames:]\n",
    "    predictions_aligned = predictions[..., -min_frames:]\n",
    "    \n",
    "    example_correlations = [] \n",
    "    \n",
    "   \n",
    "    for example_idx in range(labels_aligned.shape[0]): # labels_aligned.shape[0] = batch size\n",
    "       \n",
    "        y_true_example = labels_aligned[example_idx].T  # (time, neurons)\n",
    "        y_pred_example = predictions_aligned[example_idx].T  # (time, neurons)\n",
    "        \n",
    "        correlations = [] \n",
    "        \n",
    "\n",
    "        for neuron in range(y_true_example.shape[1]):\n",
    "            true_vals = y_true_example[:, neuron]\n",
    "            pred_vals = y_pred_example[:, neuron]\n",
    "            \n",
    "           \n",
    "            true_var = np.var(true_vals)\n",
    "            pred_var = np.var(pred_vals)\n",
    "            \n",
    "            if true_var > 1e-10 and pred_var > 1e-10:\n",
    "                corr = np.corrcoef(true_vals, pred_vals)[0, 1]\n",
    "                if not np.isnan(corr) and np.isfinite(corr):\n",
    "                    correlations.append(corr)\n",
    "        \n",
    "  \n",
    "        mean_corr_example = np.mean(correlations) if correlations else 0.0\n",
    "        example_correlations.append(mean_corr_example) \n",
    "    \n",
    "   \n",
    "    overall_mean = np.mean(example_correlations) if example_correlations else 0.0\n",
    "    \n",
    "    return {\n",
    "        'eval_average_single_trial_correlation': overall_mean,\n",
    "        'eval_single_trial_std': np.std(example_correlations) if example_correlations else 0.0,\n",
    "        'eval_num_examples': len(example_correlations),\n",
    "    }"
   ]
  },
  {
   "cell_type": "code",
   "execution_count": 18,
   "metadata": {
    "execution": {
     "iopub.execute_input": "2025-07-24T18:49:39.586798Z",
     "iopub.status.busy": "2025-07-24T18:49:39.586540Z",
     "iopub.status.idle": "2025-07-24T18:49:41.585795Z",
     "shell.execute_reply": "2025-07-24T18:49:41.584925Z",
     "shell.execute_reply.started": "2025-07-24T18:49:39.586772Z"
    },
    "trusted": true
   },
   "outputs": [
    {
     "name": "stdout",
     "output_type": "stream",
     "text": [
      "[0.007475139404624604, 0.039593989755850795]\n"
     ]
    }
   ],
   "source": [
    "import statistics\n",
    "\n",
    "results = [\n",
    "    compute_metrics(array_3d_train, array_3d_trial8_test)[\"eval_average_single_trial_correlation\"],\n",
    "    compute_metrics(array_3d_train, array_3d_trial9_test)[\"eval_average_single_trial_correlation\"]\n",
    "]\n",
    "print(results)"
   ]
  },
  {
   "cell_type": "code",
   "execution_count": 19,
   "metadata": {
    "execution": {
     "iopub.execute_input": "2025-07-24T18:49:41.587008Z",
     "iopub.status.busy": "2025-07-24T18:49:41.586711Z",
     "iopub.status.idle": "2025-07-24T18:49:41.592031Z",
     "shell.execute_reply": "2025-07-24T18:49:41.591120Z",
     "shell.execute_reply.started": "2025-07-24T18:49:41.586986Z"
    },
    "trusted": true
   },
   "outputs": [
    {
     "name": "stdout",
     "output_type": "stream",
     "text": [
      "Baseline among all data: 0.0235345645802377 \n"
     ]
    }
   ],
   "source": [
    "print(f\"Baseline among all data: {statistics.mean(results)} \")"
   ]
  }
 ],
 "metadata": {
  "kaggle": {
   "accelerator": "none",
   "dataSources": [
    {
     "datasetId": 7928614,
     "sourceId": 12556525,
     "sourceType": "datasetVersion"
    }
   ],
   "dockerImageVersionId": 31089,
   "isGpuEnabled": false,
   "isInternetEnabled": true,
   "language": "python",
   "sourceType": "notebook"
  },
  "kernelspec": {
   "display_name": "Python 3",
   "language": "python",
   "name": "python3"
  },
  "language_info": {
   "codemirror_mode": {
    "name": "ipython",
    "version": 3
   },
   "file_extension": ".py",
   "mimetype": "text/x-python",
   "name": "python",
   "nbconvert_exporter": "python",
   "pygments_lexer": "ipython3",
   "version": "3.11.13"
  }
 },
 "nbformat": 4,
 "nbformat_minor": 4
}
